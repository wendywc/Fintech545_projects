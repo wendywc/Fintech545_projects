{
 "cells": [
  {
   "cell_type": "code",
   "execution_count": 138,
   "metadata": {
    "collapsed": true
   },
   "outputs": [],
   "source": [
    "from math import exp,log,sqrt\n",
    "from scipy.stats import norm\n",
    "from datetime import datetime,timedelta\n",
    "import numpy as np\n",
    "import pandas as pd\n",
    "from scipy.optimize import fsolve\n",
    "from scipy.optimize import minimize\n",
    "from sklearn.linear_model import LinearRegression\n",
    "import matplotlib.pyplot as plt\n",
    "from risklib.option import gbsm\n",
    "from risklib.riskstats import VaR,ES"
   ]
  },
  {
   "cell_type": "markdown",
   "metadata": {
    "collapsed": false
   },
   "source": [
    "## Problem1"
   ]
  },
  {
   "cell_type": "code",
   "execution_count": 2,
   "metadata": {
    "collapsed": false
   },
   "outputs": [],
   "source": [
    "# The closed form greek formulas\n",
    "def cf_greeks(underlying,strike,ttm,rf,b,ivol,call=True):\n",
    "    d1 = (log(underlying/strike)+(b+ivol**2/2)*ttm)/(ivol*sqrt(ttm))\n",
    "    d2 = d1 - ivol*sqrt(ttm)\n",
    "    if call:\n",
    "        delta = exp((b-rf)*ttm) * norm(0,1).cdf(d1)\n",
    "        theta = - underlying*exp((b-rf)*ttm)*norm(0,1).pdf(d1)*ivol/(2*sqrt(ttm)) \\\n",
    "        - (b-rf)*underlying*exp((b-rf)*ttm)*norm(0,1).cdf(d1)-rf*strike*exp(-rf*ttm)*norm(0,1).cdf(d2)\n",
    "        #rho for rf != b\n",
    "        rho = ttm*strike*exp(-rf*ttm)*norm(0,1).cdf(d2)-ttm*underlying*norm(0,1).cdf(d1)*exp((b-rf)*ttm)\n",
    "        carry_rho = ttm*underlying*exp((b-rf)*ttm)*norm(0,1).cdf(d1)\n",
    "    else:\n",
    "        delta = exp((b-rf)*ttm) * (norm(0,1).cdf(d1)-1)\n",
    "        theta = - underlying*exp((b-rf)*ttm)*norm(0,1).pdf(d1)*ivol/(2*sqrt(ttm)) \\\n",
    "        + (b-rf)*underlying*exp((b-rf)*ttm)*norm(0,1).cdf(-d1)+ rf*strike*exp(-rf*ttm)*norm(0,1).cdf(-d2)\n",
    "        rho = -ttm*strike*exp(-rf*ttm)*norm(0,1).cdf(-d2)+ttm*underlying*norm(0,1).cdf(-d1)*exp((b-rf)*ttm)\n",
    "        carry_rho = -ttm*underlying*exp((b-rf)*ttm)*norm(0,1).cdf(-d1)\n",
    "    gamma = norm(0,1).pdf(d1)* exp((b-rf)*ttm)/ (underlying*ivol*sqrt(ttm))\n",
    "    vega = underlying * exp((b-rf)*ttm) * norm(0,1).pdf(d1) * sqrt(ttm)\n",
    "    # return greeks\n",
    "    return delta,gamma,vega,theta,rho,carry_rho"
   ]
  },
  {
   "cell_type": "code",
   "execution_count": 2,
   "metadata": {
    "collapsed": false
   },
   "outputs": [],
   "source": [
    "# Inputs\n",
    "current_price = 165\n",
    "strike = 165\n",
    "curr_date = datetime(2022,3,13)\n",
    "expiration = datetime(2022,4,15)\n",
    "rf = 0.0425\n",
    "q=0.0053\n",
    "ivol = 0.2\n",
    "ttm = (expiration-curr_date).days/365"
   ]
  },
  {
   "cell_type": "code",
   "execution_count": 4,
   "metadata": {
    "collapsed": false
   },
   "outputs": [
    {
     "name": "stdout",
     "output_type": "stream",
     "text": [
      "Greeks for call:\n",
      "Deta:0.5340091224850149\n",
      "gamma:0.040037930803986446\n",
      "Vega: 19.710179716477544\n",
      "theta: -24.898522316969515\n",
      "rho: -0.38265959627823776\n",
      "carry_rho: 7.966245676523029\n"
     ]
    }
   ],
   "source": [
    "# print out the greeks using closed form formula for call:\n",
    "delta,gamma,vega,theta,rho,carry_rho = cf_greeks(current_price,strike,ttm,rf,rf-q,ivol,True)\n",
    "print(\"Greeks for call:\")\n",
    "print(\"Deta:{}\".format(delta))\n",
    "print(\"gamma:{}\".format(gamma))\n",
    "print(\"Vega: {}\".format(vega))\n",
    "print(\"theta: {}\".format(theta))\n",
    "print(\"rho: {}\".format(rho))\n",
    "print(\"carry_rho: {}\".format(carry_rho))"
   ]
  },
  {
   "cell_type": "code",
   "execution_count": 5,
   "metadata": {
    "collapsed": false
   },
   "outputs": [
    {
     "name": "stdout",
     "output_type": "stream",
     "text": [
      "Greeks for Put:\n",
      "Deta:-0.4655118142202754\n",
      "gamma:0.040037930803986446\n",
      "Vega: 19.710179716477544\n",
      "theta: -18.786996965277233\n",
      "rho: -0.33259498982809\n",
      "carry_rho: -6.944415968299725\n"
     ]
    }
   ],
   "source": [
    "# print out the greeks using closed form formula for put:\n",
    "delta,gamma,vega,theta,rho,carry_rho = cf_greeks(current_price,strike,ttm,rf,rf-q,ivol,False)\n",
    "print(\"Greeks for Put:\")\n",
    "print(\"Deta:{}\".format(delta))\n",
    "print(\"gamma:{}\".format(gamma))\n",
    "print(\"Vega: {}\".format(vega))\n",
    "print(\"theta: {}\".format(theta))\n",
    "print(\"rho: {}\".format(rho))\n",
    "print(\"carry_rho: {}\".format(carry_rho))"
   ]
  },
  {
   "cell_type": "code",
   "execution_count": 6,
   "metadata": {
    "collapsed": false
   },
   "outputs": [],
   "source": [
    "# The finite difference method\n",
    "def fd_greeks(d_s,d_v,d_t,d_r,d_b,current_price,strike,ttm,rf,b,ivol,call):\n",
    "    f_diff = (gbsm(current_price+d_s,strike,ttm,rf,b,ivol,call=call)-gbsm(current_price,strike,ttm,rf,b,ivol,call=call))/d_s\n",
    "    b_diff = (gbsm(current_price,strike,ttm,rf,b,ivol,call=call)-gbsm(current_price-d_s,strike,ttm,rf,b,ivol,call=call))/d_s\n",
    "    delta = f_diff\n",
    "    gamma = (f_diff-b_diff)/d_s\n",
    "    vega = (gbsm(current_price,strike,ttm,rf,b,ivol+d_v,call=call)-gbsm(current_price,strike,ttm,rf,b,ivol,call=call))/d_v\n",
    "    theta = -(gbsm(current_price,strike,ttm+d_t,rf,b,ivol,call=call)-gbsm(current_price,strike,ttm,rf,b,ivol,call=call))/d_t\n",
    "    rho = (gbsm(current_price,strike,ttm,rf+d_r,b,ivol,call=call)-gbsm(current_price,strike,ttm,rf,b,ivol,call=call))/d_r\n",
    "    carry_rho = (gbsm(current_price,strike,ttm,rf,b+d_b,ivol,call=call)-gbsm(current_price,strike,ttm,rf,b,ivol,call=call))/d_b\n",
    "    return delta,gamma,vega,theta,rho,carry_rho"
   ]
  },
  {
   "cell_type": "code",
   "execution_count": 7,
   "metadata": {
    "collapsed": false
   },
   "outputs": [
    {
     "name": "stdout",
     "output_type": "stream",
     "text": [
      "Greeks for call:\n",
      "Deta:0.5380088534424488\n",
      "gamma:0.04003661620579635\n",
      "Vega: 19.71119469377811\n",
      "theta: -24.322438934413526\n",
      "rho: -0.38248666529199227\n",
      "carry_rho: 7.999955781329504\n"
     ]
    }
   ],
   "source": [
    "# Print out finite difference greeks for call\n",
    "delta,gamma,vega,theta,rho,carry_rho=fd_greeks(0.2,0.01,0.01,0.01,0.007,current_price,strike,ttm,rf,rf-q,ivol,True)\n",
    "print(\"Greeks for call:\")\n",
    "print(\"Delta:{}\".format(delta))\n",
    "print(\"gamma:{}\".format(gamma))\n",
    "print(\"Vega: {}\".format(vega))\n",
    "print(\"theta: {}\".format(theta))\n",
    "print(\"rho: {}\".format(rho))\n",
    "print(\"carry_rho: {}\".format(carry_rho))"
   ]
  },
  {
   "cell_type": "code",
   "execution_count": 8,
   "metadata": {
    "collapsed": false
   },
   "outputs": [
    {
     "name": "stdout",
     "output_type": "stream",
     "text": [
      "Greeks for Put:\n",
      "Deta:-0.4615120832627184\n",
      "gamma:0.04003661620615162\n",
      "Vega: 19.71119469377811\n",
      "theta: -18.212374651071173\n",
      "rho: -0.33244468396702587\n",
      "carry_rho: -6.915425164275948\n"
     ]
    }
   ],
   "source": [
    "# Print out finite difference greeks for put\n",
    "delta,gamma,vega,theta,rho,carry_rho=fd_greeks(0.2,0.01,0.01,0.01,0.007,current_price,strike,ttm,rf,rf-q,ivol,False)\n",
    "print(\"Greeks for Put:\")\n",
    "print(\"Delta:{}\".format(delta))\n",
    "print(\"gamma:{}\".format(gamma))\n",
    "print(\"Vega: {}\".format(vega))\n",
    "print(\"theta: {}\".format(theta))\n",
    "print(\"rho: {}\".format(rho))\n",
    "print(\"carry_rho: {}\".format(carry_rho))"
   ]
  },
  {
   "cell_type": "code",
   "execution_count": 233,
   "metadata": {
    "collapsed": false
   },
   "outputs": [],
   "source": [
    "# binomial tree without dividend\n",
    "def bt_american(underlying,strike,ttm,rf,b,ivol,N,call):\n",
    "    dt = ttm/N\n",
    "    u = exp(ivol*sqrt(dt))\n",
    "    d = 1/u\n",
    "    pu = (exp(b*dt)-d)/(u-d)\n",
    "    pd = 1.0-pu\n",
    "    df = exp(-rf*dt)\n",
    "    if call:\n",
    "        z=1\n",
    "    else:\n",
    "        z=-1\n",
    "    # calculate the number of nodes\n",
    "    def nNode(n):\n",
    "        return int((n+1)*(n+2)/2)\n",
    "    # Calculate the index\n",
    "    def idx(i,j):\n",
    "        return nNode(j-1)+i\n",
    "    nNodes = nNode(N)\n",
    "    optionvalues = np.zeros(nNodes)\n",
    "    for j in range(N,-1,-1):\n",
    "        for i in range(j,-1,-1):\n",
    "            index = idx(i,j)\n",
    "            price = underlying*u**i*d**(j-i)\n",
    "            optionvalues[index]=max(0,z*(price-strike))\n",
    "            if j<N:\n",
    "               optionvalues[index] = max(optionvalues[index],df*(pu*optionvalues[idx(i+1,j+1)]+pd*optionvalues[idx(i,j+1)]))\n",
    "            # print(i,j,optionvalues[index])\n",
    "    return optionvalues[0]"
   ]
  },
  {
   "cell_type": "code",
   "execution_count": 234,
   "metadata": {
    "collapsed": false
   },
   "outputs": [],
   "source": [
    "# binomial tree with dividend\n",
    "def bt_american_div(underlying,strike,ttm,rf,divamts,divtimes,ivol,N,call):\n",
    "    # No dividends\n",
    "    if len(divamts)==0 or len(divtimes)==0:\n",
    "        return bt_american(underlying,strike,ttm,rf,rf,ivol,N,call)\n",
    "    # First div outside grid\n",
    "    if divtimes[0]>N:\n",
    "        return bt_american(underlying,strike,ttm,rf,rf,ivol,N,call)\n",
    "    dt = ttm/N\n",
    "    u = exp(ivol*sqrt(dt))\n",
    "    d = 1/u\n",
    "    pu = (exp(rf*dt)-d)/(u-d)\n",
    "    pd = 1.0-pu\n",
    "    df = exp(-rf*dt)\n",
    "    if call:\n",
    "        z=1\n",
    "    else:\n",
    "        z=-1\n",
    "    # calculate the number of nodes\n",
    "    def nNode(n):\n",
    "        return int((n+1)*(n+2)/2)\n",
    "    # Calculate the index\n",
    "    def idx(i,j):\n",
    "        return nNode(j-1)+i\n",
    "    nDiv = len(divtimes)\n",
    "    nNodes = nNode(divtimes[0])\n",
    "    optionvalues = np.zeros(nNodes)\n",
    "    for j in range(divtimes[0],-1,-1):\n",
    "        for i in range(j,-1,-1):\n",
    "            index = idx(i,j)\n",
    "            price = underlying*u**i*d**(j-i)\n",
    "            if j < divtimes[0]:\n",
    "                # Times before dividend, backward method\n",
    "                optionvalues[index]=max(0,z*(price-strike))\n",
    "                optionvalues[index] = max(optionvalues[index],df*(pu*optionvalues[idx(i+1,j+1)]+pd*optionvalues[idx(i,j+1)]))\n",
    "            else:\n",
    "                valnoex = bt_american_div(price-divamts[0],strike,ttm-divtimes[0]*dt,rf,divamts[1:nDiv-1],divtimes[1:nDiv-1]-divtimes[0],ivol,N-divtimes[0],call)\n",
    "                valex = max(0,z*(price-strike))\n",
    "                optionvalues[index] = max(valnoex,valex)\n",
    "                # print(\"new\",i,j,optionvalues[index])\n",
    "    return optionvalues[0]"
   ]
  },
  {
   "cell_type": "code",
   "execution_count": 235,
   "metadata": {
    "collapsed": false
   },
   "outputs": [],
   "source": [
    "# Inputs\n",
    "underlying = 165\n",
    "strike = 165\n",
    "curr_date = datetime(2022,3,13)\n",
    "expiration = datetime(2022,4,15)\n",
    "div_date = datetime(2022,4,11)\n",
    "rf = 0.0425\n",
    "q=0.0053\n",
    "ivol = 0.2\n",
    "ttm = (expiration-curr_date).days/365\n",
    "N=200\n",
    "divtimes = int((div_date-curr_date).days/(expiration-curr_date).days *N)\n",
    "div=0.88"
   ]
  },
  {
   "cell_type": "code",
   "execution_count": 236,
   "metadata": {
    "collapsed": false
   },
   "outputs": [
    {
     "name": "stdout",
     "output_type": "stream",
     "text": [
      "Call option without dividend: 4.2698585632362684\n",
      "Put option without dividend: 3.684138176821656\n",
      "Call option with dividend: 4.112836095267345\n",
      "Put option with dividend: 4.1105345298444895\n"
     ]
    }
   ],
   "source": [
    "# Values without dividend\n",
    "call_nodiv = bt_american(underlying,strike,ttm,rf,rf,ivol,N,True)\n",
    "put_nodiv = bt_american(underlying,strike,ttm,rf,rf,ivol,N,False)\n",
    "print(\"Call option without dividend:\",call_nodiv)\n",
    "print(\"Put option without dividend:\",put_nodiv)\n",
    "# Values with dividend\n",
    "call_div = bt_american_div(underlying,strike,ttm,rf,np.array([div]),np.array([divtimes]),ivol,N,True)\n",
    "put_div = bt_american_div(underlying,strike,ttm,rf,np.array([div]),np.array([divtimes]),ivol,N,False)\n",
    "print(\"Call option with dividend:\",call_div)\n",
    "print(\"Put option with dividend:\",put_div)"
   ]
  },
  {
   "cell_type": "code",
   "execution_count": 237,
   "metadata": {
    "collapsed": false
   },
   "outputs": [],
   "source": [
    "# Calculate greeks for bt\n",
    "def fd_greeks_bt(d_s,d_v,d_t,d_r,d_d,underlying,strike,ttm,rf,divamts,divtimes,ivol,N,call):\n",
    "    f_diff = (bt_american_div(underlying+d_s,strike,ttm,rf,divamts,divtimes,ivol,N,call)-bt_american_div(underlying,strike,ttm,rf,divamts,divtimes,ivol,N,call))/d_s\n",
    "    b_diff = (bt_american_div(underlying,strike,ttm,rf,divamts,divtimes,ivol,N,call)-bt_american_div(underlying-d_s,strike,ttm,rf,divamts,divtimes,ivol,N,call))/d_s\n",
    "    delta = f_diff\n",
    "    gamma = (f_diff-b_diff)/d_s\n",
    "    vega = (bt_american_div(underlying,strike,ttm,rf,divamts,divtimes,ivol+d_v,N,call)- bt_american_div(underlying,strike,ttm,rf,divamts,divtimes,ivol,N,call))/d_v\n",
    "    theta = -(bt_american_div(underlying,strike,ttm+d_t,rf,divamts,divtimes,ivol,N,call)-bt_american_div(underlying,strike,ttm,rf,divamts,divtimes,ivol,N,call))/d_t\n",
    "    rho = (bt_american_div(underlying,strike,ttm,rf+d_r,divamts,divtimes,ivol,N,call)-bt_american_div(underlying,strike,ttm,rf,divamts,divtimes,ivol,N,call))/d_r\n",
    "    # The derivative respect to dividend\n",
    "    ddiv = (bt_american_div(underlying,strike,ttm,rf,divamts,divtimes,ivol,N,call)-bt_american_div(underlying,strike,ttm,rf,divamts-d_d,divtimes,ivol,N,call))/d_r\n",
    "    return delta,gamma,vega,theta,rho,ddiv"
   ]
  },
  {
   "cell_type": "code",
   "execution_count": 242,
   "metadata": {
    "collapsed": false
   },
   "outputs": [
    {
     "name": "stdout",
     "output_type": "stream",
     "text": [
      "Greeks for call:\n",
      "Deta:0.5654346292413059\n",
      "gamma:0.28050135221535655\n",
      "Vega: 19.68233756779254\n",
      "theta: -24.781072878797517\n",
      "rho: 7.671558546741863\n"
     ]
    }
   ],
   "source": [
    "# Greeks without dividend\n",
    "delta,gamma,vega,theta,rho,ddiv = fd_greeks_bt(0.2,0.01,0.01,0.01,0.01,underlying,strike,ttm,rf,np.array([]),np.array([]),ivol,N,True)\n",
    "print(\"Greeks for call:\")\n",
    "print(\"Deta:{}\".format(delta))\n",
    "print(\"gamma:{}\".format(gamma))\n",
    "print(\"Vega: {}\".format(vega))\n",
    "print(\"theta: {}\".format(theta))\n",
    "print(\"rho: {}\".format(rho))"
   ]
  },
  {
   "cell_type": "code",
   "execution_count": 243,
   "metadata": {
    "collapsed": false
   },
   "outputs": [
    {
     "name": "stdout",
     "output_type": "stream",
     "text": [
      "Greeks for Put:\n",
      "Deta:-0.4476915654878666\n",
      "gamma:0.24295249234087546\n",
      "Vega: 19.645185811427222\n",
      "theta: -18.386850803746224\n",
      "rho: -5.813164441871876\n"
     ]
    }
   ],
   "source": [
    "# Greeks without dividend\n",
    "delta,gamma,vega,theta,rho,ddiv = fd_greeks_bt(0.2,0.01,0.01,0.01,0.01,underlying,strike,ttm,rf,np.array([]),np.array([]),ivol,N,False)\n",
    "print(\"Greeks for Put:\")\n",
    "print(\"Deta:{}\".format(delta))\n",
    "print(\"gamma:{}\".format(gamma))\n",
    "print(\"Vega: {}\".format(vega))\n",
    "print(\"theta: {}\".format(theta))\n",
    "print(\"rho: {}\".format(rho))"
   ]
  },
  {
   "cell_type": "code",
   "execution_count": 238,
   "metadata": {
    "collapsed": false
   },
   "outputs": [
    {
     "name": "stdout",
     "output_type": "stream",
     "text": [
      "Greeks for call:\n",
      "Deta:0.5350316590583626\n",
      "gamma:0.021277169572075927\n",
      "Vega: 19.575283596213655\n",
      "theta: -24.293425333044816\n",
      "rho: 6.867783857751331\n",
      "delta dividend : -0.11549740557335042\n"
     ]
    }
   ],
   "source": [
    "# Greeks with dividend\n",
    "delta,gamma,vega,theta,rho,ddiv = fd_greeks_bt(0.2,0.01,0.01,0.01,0.01,underlying,strike,ttm,rf,np.array([div]),np.array([divtimes]),ivol,N,True)\n",
    "print(\"Greeks for call:\")\n",
    "print(\"Deta:{}\".format(delta))\n",
    "print(\"gamma:{}\".format(gamma))\n",
    "print(\"Vega: {}\".format(vega))\n",
    "print(\"theta: {}\".format(theta))\n",
    "print(\"rho: {}\".format(rho))\n",
    "print(\"delta dividend : {}\".format(ddiv))"
   ]
  },
  {
   "cell_type": "code",
   "execution_count": 239,
   "metadata": {
    "collapsed": false
   },
   "outputs": [
    {
     "name": "stdout",
     "output_type": "stream",
     "text": [
      "Greeks for Put:\n",
      "Deta:-0.7157072182794533\n",
      "gamma:1.4432899320127035e-13\n",
      "Vega: 17.615344905813178\n",
      "theta: -16.95242792152771\n",
      "rho: -4.3195014178173174\n",
      "delta dividend : 0.7256234304063636\n"
     ]
    }
   ],
   "source": [
    "delta,gamma,vega,theta,rho,ddiv = fd_greeks_bt(0.2,0.01,0.01,0.01,0.01,underlying,strike,ttm,rf,np.array([div]),np.array([1]),ivol,2,False)\n",
    "print(\"Greeks for Put:\")\n",
    "print(\"Deta:{}\".format(delta))\n",
    "print(\"gamma:{}\".format(gamma))\n",
    "print(\"Vega: {}\".format(vega))\n",
    "print(\"theta: {}\".format(theta))\n",
    "print(\"rho: {}\".format(rho))\n",
    "print(\"delta dividend : {}\".format(ddiv))"
   ]
  },
  {
   "cell_type": "markdown",
   "metadata": {
    "collapsed": false
   },
   "source": [
    "## Problem2"
   ]
  },
  {
   "cell_type": "code",
   "execution_count": 2,
   "metadata": {
    "collapsed": false
   },
   "outputs": [],
   "source": [
    "port_options = pd.read_csv(\"Problem2.csv\")\n",
    "daily_prices = pd.read_csv(\"DailyPrices.csv\")"
   ]
  },
  {
   "cell_type": "code",
   "execution_count": 3,
   "metadata": {
    "collapsed": false
   },
   "outputs": [],
   "source": [
    "port_options['ExpirationDate']=port_options['ExpirationDate'].astype(\"datetime64[ns]\")\n",
    "port_options['OptionType'] = port_options['OptionType'].apply(lambda x: bool(x==\"Call\") if pd.notna(x) else x)"
   ]
  },
  {
   "cell_type": "code",
   "execution_count": 4,
   "metadata": {
    "collapsed": false
   },
   "outputs": [],
   "source": [
    "# Inputs\n",
    "currdate = datetime(2023,3,3)\n",
    "div_date = np.array([datetime(2023,3,15)])\n",
    "rf = 0.0425\n",
    "# ttm = (expiration-curr_date).days/365\n",
    "N=50\n",
    "# divtimes = int((div_date-curr_date).days/(expiration-curr_date).days *N)\n",
    "divamts = np.array([1.00])\n",
    "underlying =151.03"
   ]
  },
  {
   "cell_type": "code",
   "execution_count": 7,
   "metadata": {
    "collapsed": false
   },
   "outputs": [],
   "source": [
    "# Solve ivol using bt\n",
    "def ivol_bt(underlying,strike,ttm,rf,divamts,divtimes,N,call,value,initvol):\n",
    "    def sol_vol(x,underlying,strike,ttm,rf,divamts,divtimes,N,call,value):\n",
    "        return bt_american_div(underlying,strike,ttm,rf,divamts,divtimes,x,N,call)-value\n",
    "    vol = fsolve(sol_vol,initvol,args=(underlying,strike,ttm,rf,divamts,divtimes,N,call,value))\n",
    "    return vol[0]"
   ]
  },
  {
   "cell_type": "code",
   "execution_count": 8,
   "metadata": {
    "collapsed": false
   },
   "outputs": [],
   "source": [
    "# Calculate implied vol\n",
    "def row_fun_port(row,underlying,currdate,div_date,divamts,rf,N):\n",
    "    ttm = ((row['ExpirationDate']-currdate).days)/365\n",
    "    divtime_cal = lambda x: int((x- currdate).days/(row['ExpirationDate']-currdate).days *N)\n",
    "    divtimes = np.array([divtime_cal(d) for d in div_date])\n",
    "    vol = ivol_bt(underlying,row['Strike'],ttm,rf,divamts,divtimes,N,row['OptionType'],row['CurrentPrice'],0.2)\n",
    "    return vol"
   ]
  },
  {
   "cell_type": "code",
   "execution_count": 9,
   "metadata": {
    "collapsed": false
   },
   "outputs": [],
   "source": [
    "port_options['Implied Vol'] = port_options[port_options['Type']=='Option'].apply(row_fun_port,args=(underlying,currdate,div_date,divamts,rf,N),axis=1)"
   ]
  },
  {
   "cell_type": "code",
   "execution_count": 10,
   "metadata": {
    "collapsed": false
   },
   "outputs": [],
   "source": [
    "# Calculate the value for each portfolio\n",
    "def portvalue(row,underlying,currdate,div_date,divamts,rf,N,daysahead):\n",
    "    # # Create a dataframe to store the values\n",
    "    # port_value = pd.DataFrame(portdf['Portfolio']).copy()\n",
    "    # port_value['value'] = np.NaN\n",
    "    # # for each asset calculate the value using bt\n",
    "    # Calculate the value using the currentdate moving ahead\n",
    "    currdate += timedelta(days=daysahead)\n",
    "    if row['Type']=='Stock':\n",
    "            return underlying*row['Holding']\n",
    "    else:\n",
    "            ttm = ((row['ExpirationDate']-currdate).days)/365\n",
    "            divtime_cal = lambda x: int((x- currdate).days/(row['ExpirationDate']-currdate).days *N)\n",
    "            divtimes = np.array([divtime_cal(d) for d in div_date])\n",
    "            value = bt_american_div(underlying,row['Strike'],ttm,rf,divamts,divtimes,row['Implied Vol'],N,row['OptionType'])\n",
    "            return value * row['Holding']\n",
    "    # # group assets by portfolio\n",
    "    # port_result = port_value.groupby(['Portfolio']).sum()\n",
    "    # return port_result"
   ]
  },
  {
   "cell_type": "code",
   "execution_count": 11,
   "metadata": {
    "collapsed": false
   },
   "outputs": [],
   "source": [
    "# Calculate the log return of AAPL\n",
    "aapl_log = np.log(daily_prices['AAPL']/daily_prices['AAPL'].shift(1))\n",
    "# Demean the series\n",
    "aapl_h = aapl_log-aapl_log.mean()"
   ]
  },
  {
   "cell_type": "code",
   "execution_count": 12,
   "metadata": {
    "collapsed": false
   },
   "outputs": [],
   "source": [
    "# Simulate the price using normal\n",
    "def normal_sim(r,ndays,p0,nsim=1000,seed=10):\n",
    "    sigma = r.std()\n",
    "    np.random.seed(seed)\n",
    "    rsim = np.random.normal(0,sigma,(nsim,ndays))\n",
    "    rsim_cum = np.sum(rsim,axis=1)\n",
    "    psim = np.zeros(nsim)\n",
    "    for i in range(nsim):\n",
    "        psim[i]=p0*exp(rsim_cum[i])\n",
    "    return psim"
   ]
  },
  {
   "cell_type": "code",
   "execution_count": 13,
   "metadata": {
    "collapsed": false
   },
   "outputs": [],
   "source": [
    "# Calculate delta for each asset\n",
    "def asset_delta(row,underlying,currdate,div_date,divamts,rf,N,d):\n",
    "    if row['Type']=='Stock':\n",
    "        return 1\n",
    "    else:\n",
    "        ttm = ((row['ExpirationDate']-currdate).days)/365\n",
    "        divtime_cal = lambda x: int((x- currdate).days/(row['ExpirationDate']-currdate).days *N)\n",
    "        divtimes = np.array([divtime_cal(d) for d in div_date])\n",
    "        delta = (bt_american_div(underlying+d,row['Strike'],ttm,rf,divamts,divtimes,row['Implied Vol'],N,row['OptionType'])- bt_american_div(underlying,row['Strike'],ttm,rf,divamts,divtimes,row['Implied Vol'],N,row['OptionType']))/d\n",
    "        return delta"
   ]
  },
  {
   "cell_type": "code",
   "execution_count": 14,
   "metadata": {
    "collapsed": false
   },
   "outputs": [],
   "source": [
    "port_options['delta'] = port_options.apply(asset_delta,args=(underlying,currdate,div_date,divamts,rf,N,0.2),axis=1)"
   ]
  },
  {
   "cell_type": "code",
   "execution_count": 15,
   "metadata": {
    "collapsed": false
   },
   "outputs": [],
   "source": [
    "# Delta*Holding\n",
    "port_options['delta_h'] = port_options['delta']*port_options['Holding']\n",
    "port_options['pv'] = port_options['CurrentPrice']*port_options['Holding']"
   ]
  },
  {
   "cell_type": "code",
   "execution_count": 16,
   "metadata": {
    "collapsed": false
   },
   "outputs": [],
   "source": [
    "# Simulate the current prices\n",
    "price_sim = normal_sim(aapl_h,10,151.03,nsim=1000,seed=10)"
   ]
  },
  {
   "cell_type": "code",
   "execution_count": 17,
   "metadata": {
    "collapsed": false
   },
   "outputs": [],
   "source": [
    "# Calculate the PL for each simulation\n",
    "# The current value of portfolios\n",
    "port_curr = port_options.apply(portvalue,args=(151.03,currdate,div_date,divamts,rf,N,0),axis=1)\n",
    "pl_list = []\n",
    "for i in range(len(price_sim)):\n",
    "    pl = port_options.apply(portvalue,args=(price_sim[i],currdate,div_date,divamts,rf,N,10),axis=1) - port_curr\n",
    "    pl_list.append(pl)\n",
    "pl_sim = pd.concat(pl_list,axis=1)\n",
    "pl_sim.set_index(port_options['Portfolio'],inplace=True)\n",
    "portpl_sim = pl_sim.groupby(level=0).sum().T"
   ]
  },
  {
   "cell_type": "code",
   "execution_count": 18,
   "metadata": {
    "collapsed": false
   },
   "outputs": [],
   "source": [
    "# Calculate the mean\n",
    "port_mean = portpl_sim.mean(axis=0)\n",
    "stat_mean = pd.DataFrame(port_mean,columns=['Mean'])"
   ]
  },
  {
   "cell_type": "code",
   "execution_count": 19,
   "metadata": {
    "collapsed": false
   },
   "outputs": [
    {
     "name": "stdout",
     "output_type": "stream",
     "text": [
      "Portfolio\n",
      "Call            0.952987\n",
      "CallSpread      0.000725\n",
      "CoveredCall    -0.479103\n",
      "ProtectedPut    1.334180\n",
      "Put             0.948173\n",
      "PutSpread       0.373035\n",
      "Stock           0.548978\n",
      "Straddle        1.901160\n",
      "SynLong         0.004814\n",
      "dtype: float64\n"
     ]
    }
   ],
   "source": [
    "print(port_mean)"
   ]
  },
  {
   "cell_type": "code",
   "execution_count": 26,
   "metadata": {
    "collapsed": false
   },
   "outputs": [],
   "source": [
    "#calculate VaR and ES\n",
    "def delta_var_es(row):\n",
    "    r_sim = np.random.normal(0,row['scaler'],10000)\n",
    "    var = VaR(r_sim)*row['pv']\n",
    "    es = ES(r_sim)*row['pv']\n",
    "    return var,es"
   ]
  },
  {
   "cell_type": "code",
   "execution_count": null,
   "metadata": {
    "collapsed": false
   },
   "outputs": [],
   "source": [
    "sigma = aapl_h.var()\n",
    "port_r_cal = port_options[['Portfolio','pv','delta_h']].groupby('Portfolio').sum()\n",
    "port_r_cal['dr'] = underlying/port_r_cal['pv']*port_r_cal['delta_h']\n",
    "port_r_cal['scaler']= np.sqrt(port_r_cal['dr']*sigma*port_r_cal['dr'])\n",
    "port_r_cal['VaR'] = port_r_cal.apply(lambda x : delta_var_es(x)[0],axis=1)\n",
    "port_r_cal['ES'] = port_r_cal.apply(lambda x : delta_var_es(x)[1],axis=1)"
   ]
  },
  {
   "cell_type": "code",
   "execution_count": 31,
   "metadata": {
    "collapsed": false
   },
   "outputs": [],
   "source": [
    "# Mean ES and Var\n",
    "stat = pd.concat([stat_mean,port_r_cal[['VaR','ES']]],axis=1)"
   ]
  },
  {
   "cell_type": "code",
   "execution_count": 32,
   "metadata": {
    "collapsed": false
   },
   "outputs": [
    {
     "name": "stdout",
     "output_type": "stream",
     "text": [
      "                  pv   delta_h         dr    scaler       VaR        ES\n",
      "Portfolio                                                              \n",
      "Call            6.80  0.594226  13.197943  0.295978  3.280267  4.035524\n",
      "CallSpread      4.59  0.319230  10.503989  0.235563  1.795791  2.234965\n",
      "CoveredCall   146.98  0.623904   0.641095  0.014377  3.485058  4.295819\n",
      "ProtectedPut  154.04  0.699466   0.685798  0.015380  3.868369  4.981210\n",
      "Put             4.85 -0.430455 -13.404465  0.300609  2.372024  3.015266\n",
      "PutSpread       3.01 -0.221534 -11.115722  0.249282  1.202810  1.512874\n",
      "Stock         151.03  1.000000   1.000000  0.022426  5.565147  7.048000\n",
      "Straddle       11.65  0.163771   2.123120  0.047613  0.914737  1.143212\n",
      "SynLong         1.95  1.024682  79.362905  1.779796  5.727635  7.108029\n"
     ]
    }
   ],
   "source": [
    "stat.to_csv('portstat.csv')"
   ]
  },
  {
   "cell_type": "markdown",
   "metadata": {
    "collapsed": false
   },
   "source": [
    "## Problem3"
   ]
  },
  {
   "cell_type": "code",
   "execution_count": 172,
   "metadata": {
    "collapsed": false
   },
   "outputs": [],
   "source": [
    "# Read in data\n",
    "F_momentum_data = pd.read_csv(\"F-F_Momentum_Factor_daily.csv\")\n",
    "F_3factor_data = pd.read_csv(\"F-F_Research_Data_Factors_daily.csv\")"
   ]
  },
  {
   "cell_type": "code",
   "execution_count": 173,
   "metadata": {
    "collapsed": false
   },
   "outputs": [],
   "source": [
    "# Clean and prepare the data\n",
    "F_momentum_data['Date']=F_momentum_data['Date'].astype(\"str\")\n",
    "F_3factor_data['Date']=F_3factor_data['Date'].astype(\"str\")\n",
    "F_momentum_data['Date']=F_momentum_data['Date'].apply(lambda x: datetime.strptime(x,\"%Y%m%d\"))\n",
    "F_3factor_data['Date']=F_3factor_data['Date'].apply(lambda x: datetime.strptime(x,\"%Y%m%d\"))"
   ]
  },
  {
   "cell_type": "code",
   "execution_count": 174,
   "metadata": {
    "collapsed": false
   },
   "outputs": [],
   "source": [
    "F_momentum_data.set_index('Date',inplace=True)\n",
    "F_3factor_data.set_index('Date',inplace=True)"
   ]
  },
  {
   "cell_type": "code",
   "execution_count": 176,
   "metadata": {
    "collapsed": false
   },
   "outputs": [],
   "source": [
    "F_4factor_data=pd.concat([F_momentum_data,F_3factor_data],axis=1)\n",
    "# Convert to decimal not percentage\n",
    "F_4factor_data = F_4factor_data/100"
   ]
  },
  {
   "cell_type": "code",
   "execution_count": 190,
   "metadata": {
    "collapsed": false
   },
   "outputs": [
    {
     "name": "stdout",
     "output_type": "stream",
     "text": [
      "            Mom     Mkt-RF     SMB     HML       RF\n",
      "Date                                               \n",
      "1926-07-01     NaN  0.0010 -0.0025 -0.0027  0.00009\n",
      "1926-07-02     NaN  0.0045 -0.0033 -0.0006  0.00009\n",
      "1926-07-06     NaN  0.0017  0.0030 -0.0039  0.00009\n",
      "1926-07-07     NaN  0.0009 -0.0058  0.0002  0.00009\n",
      "1926-07-08     NaN  0.0021 -0.0038  0.0019  0.00009\n",
      "...            ...     ...     ...     ...      ...\n",
      "2023-01-25  0.0014  0.0000 -0.0004  0.0065  0.00017\n",
      "2023-01-26 -0.0123  0.0108 -0.0058  0.0001  0.00017\n",
      "2023-01-27 -0.0246  0.0036  0.0062 -0.0116  0.00017\n",
      "2023-01-30  0.0136 -0.0138 -0.0010  0.0072  0.00017\n",
      "2023-01-31 -0.0070  0.0157  0.0099 -0.0006  0.00017\n",
      "\n",
      "[25419 rows x 5 columns]\n"
     ]
    }
   ],
   "source": [
    "print(F_4factor_data)"
   ]
  },
  {
   "cell_type": "code",
   "execution_count": 178,
   "metadata": {
    "collapsed": false
   },
   "outputs": [],
   "source": [
    "dailyprices = pd.read_csv(\"DailyPrices.csv\")"
   ]
  },
  {
   "cell_type": "code",
   "execution_count": 185,
   "metadata": {
    "collapsed": false
   },
   "outputs": [],
   "source": [
    "dailyprices['Date']=dailyprices['Date'].astype(\"datetime64[ns]\")"
   ]
  },
  {
   "cell_type": "code",
   "execution_count": 186,
   "metadata": {
    "collapsed": false
   },
   "outputs": [],
   "source": [
    "tickers = ['AAPL','META','UNH','MA',\n",
    "           'MSFT','NVDA','HD','PFE',\n",
    "           'AMZN','BRK-B','PG','XOM',\n",
    "           'TSLA','JPM','V','DIS',\n",
    "           'GOOGL','JNJ','BAC','CSCO']"
   ]
  },
  {
   "cell_type": "code",
   "execution_count": 187,
   "metadata": {
    "collapsed": false
   },
   "outputs": [],
   "source": [
    "stock_r =[]\n",
    "for t in tickers:\n",
    "    r = np.log(dailyprices[t]/dailyprices[t].shift(1))\n",
    "    stock_r.append(r)\n",
    "stocks = pd.concat(stock_r,axis=1)\n",
    "stocks.set_index(dailyprices['Date'],inplace=True)\n",
    "stocks.dropna(inplace=True)"
   ]
  },
  {
   "cell_type": "code",
   "execution_count": 189,
   "metadata": {
    "collapsed": false
   },
   "outputs": [],
   "source": [
    "# Get the 1y data\n",
    "F_4factor_1y = F_4factor_data.loc['2022-02-15':'2023-01-31']\n",
    "stocks_1y = stocks.loc['2022-02-15':'2023-01-31']"
   ]
  },
  {
   "cell_type": "code",
   "execution_count": 192,
   "metadata": {
    "collapsed": false
   },
   "outputs": [],
   "source": [
    "# The X array for model\n",
    "r_mkt = F_4factor_1y['Mkt-RF'].values.reshape(-1,1)\n",
    "smb = F_4factor_1y['SMB'].values.reshape(-1,1)\n",
    "hml = F_4factor_1y['HML'].values.reshape(-1,1)\n",
    "umd = F_4factor_1y['Mom   '].values.reshape(-1,1)\n",
    "X = np.concatenate((r_mkt,smb,hml,umd),axis=1)"
   ]
  },
  {
   "cell_type": "code",
   "execution_count": 193,
   "metadata": {
    "collapsed": false
   },
   "outputs": [],
   "source": [
    "# Fit the model using Linear regression\n",
    "model=LinearRegression()\n",
    "para_dict = {}\n",
    "for t in tickers:\n",
    "    # r_s-r_f\n",
    "    r_s= (stocks_1y[t]- F_4factor_1y['RF']).values.reshape(-1,1)\n",
    "    model.fit(X,r_s)\n",
    "    para_dict[t]=(model.coef_[0],model.intercept_[0])"
   ]
  },
  {
   "cell_type": "code",
   "execution_count": 195,
   "metadata": {
    "collapsed": false
   },
   "outputs": [],
   "source": [
    "# 10Y facotr returns\n",
    "F_4factor_10y = F_4factor_data['2013-01-31':'2023-01-31']"
   ]
  },
  {
   "cell_type": "code",
   "execution_count": 161,
   "metadata": {
    "collapsed": false
   },
   "outputs": [
    {
     "name": "stdout",
     "output_type": "stream",
     "text": [
      "            Mom     Mkt-RF     SMB     HML       RF\n",
      "Date                                               \n",
      "2013-01-31 -0.0037 -0.0008  0.0069  0.0017  0.00000\n",
      "2013-02-01  0.0031  0.0099  0.0007  0.0024  0.00000\n",
      "2013-02-04  0.0000 -0.0119 -0.0014 -0.0017  0.00000\n",
      "2013-02-05  0.0013  0.0107 -0.0008  0.0014  0.00000\n",
      "2013-02-06 -0.0032  0.0015  0.0028  0.0014  0.00000\n",
      "...            ...     ...     ...     ...      ...\n",
      "2023-01-25  0.0014  0.0000 -0.0004  0.0065  0.00017\n",
      "2023-01-26 -0.0123  0.0108 -0.0058  0.0001  0.00017\n",
      "2023-01-27 -0.0246  0.0036  0.0062 -0.0116  0.00017\n",
      "2023-01-30  0.0136 -0.0138 -0.0010  0.0072  0.00017\n",
      "2023-01-31 -0.0070  0.0157  0.0099 -0.0006  0.00017\n",
      "\n",
      "[2518 rows x 5 columns]\n"
     ]
    }
   ],
   "source": [
    "print(F_4factor_10y)"
   ]
  },
  {
   "cell_type": "code",
   "execution_count": 213,
   "metadata": {
    "collapsed": false
   },
   "outputs": [],
   "source": [
    "# er for stocks\n",
    "er = []\n",
    "for t in tickers:\n",
    "    s_r =para_dict[t][1]+para_dict[t][0][0]*F_4factor_10y['Mkt-RF']+ para_dict[t][0][1]*F_4factor_10y['SMB'] \\\n",
    "    + para_dict[t][0][2]*F_4factor_10y['HML']+para_dict[t][0][3]*F_4factor_10y['Mom   ']+F_4factor_10y['RF']\n",
    "    s_r = s_r.mean()*250\n",
    "    er.append(s_r)\n",
    "er = np.array(er)"
   ]
  },
  {
   "cell_type": "code",
   "execution_count": 214,
   "metadata": {
    "collapsed": false
   },
   "outputs": [
    {
     "data": {
      "text/plain": [
       "array([ 0.11960648, -0.12756437,  0.2388658 ,  0.19146119,  0.11812763,\n",
       "        0.13925335,  0.08397227,  0.04881949, -0.12454428,  0.1198568 ,\n",
       "        0.06483685,  0.48659818, -0.22771619,  0.0826194 ,  0.21120255,\n",
       "       -0.19662501, -0.06854585,  0.11144937, -0.12760639,  0.11903391])"
      ]
     },
     "execution_count": 214,
     "metadata": {},
     "output_type": "execute_result"
    }
   ],
   "source": [
    "er"
   ]
  },
  {
   "cell_type": "code",
   "execution_count": 244,
   "metadata": {
    "collapsed": false
   },
   "outputs": [],
   "source": [
    "ER_sum = pd.DataFrame(er,index=tickers)"
   ]
  },
  {
   "cell_type": "code",
   "execution_count": 215,
   "metadata": {
    "collapsed": false
   },
   "outputs": [],
   "source": [
    "# corr and std for stocks\n",
    "corr = stocks.corr().to_numpy()\n",
    "std = stocks.std().to_numpy()*sqrt(250)\n",
    "covar = np.diag(std)@ corr @np.diag(std)"
   ]
  },
  {
   "cell_type": "code",
   "execution_count": 221,
   "metadata": {
    "collapsed": false
   },
   "outputs": [],
   "source": [
    "# Calculate the optimal portfolio\n",
    "def optimize_port(er,covar,rf):\n",
    "    n = len(er)\n",
    "    def sharpe_cal(w):\n",
    "        r = w.T @ er.reshape(-1,1)\n",
    "        std = sqrt(w.T @ covar @ w)\n",
    "        sharpe = (r-rf)/std\n",
    "        return -sharpe\n",
    "    #Initial weights\n",
    "    w0 = np.array([1/n]*n).reshape(-1,1)\n",
    "    w_optmize = minimize(sharpe_cal,w0,\n",
    "                         constraints=({'type':'ineq','fun': lambda x: x},{'type':'ineq','fun': lambda x: 1-x},{'type':'eq','fun': lambda x:x.sum()-1}))\n",
    "    sharpe = -w_optmize.fun\n",
    "    return w_optmize.x,sharpe"
   ]
  },
  {
   "cell_type": "code",
   "execution_count": 229,
   "metadata": {
    "collapsed": false
   },
   "outputs": [
    {
     "name": "stderr",
     "output_type": "stream",
     "text": [
      "/var/folders/32/cdr8k22j5d31qndx08zm5j440000gn/T/ipykernel_12123/764910999.py:11: DeprecationWarning: Use of `minimize` with `x0.ndim != 1` is deprecated. Currently, singleton dimensions will be removed from `x0`, but an error will be raised in SciPy 1.11.0.\n",
      "  w_optmize = minimize(sharpe_cal,w0,\n"
     ]
    }
   ],
   "source": [
    "weights,sharpe = optimize_port(er,covar,0.0425)\n",
    "weight_res = pd.DataFrame(weights,index=tickers,columns=['Weight'])\n",
    "weight_res['Weight'] = weight_res['Weight'].apply(lambda x: round(x,4))"
   ]
  },
  {
   "cell_type": "code",
   "execution_count": 227,
   "metadata": {
    "collapsed": false
   },
   "outputs": [
    {
     "name": "stdout",
     "output_type": "stream",
     "text": [
      "Maximum Sharpe ratio:1.3574956159710518\n"
     ]
    }
   ],
   "source": [
    "print(\"Maximum Sharpe ratio:{}\".format(sharpe))"
   ]
  },
  {
   "cell_type": "code",
   "execution_count": 232,
   "metadata": {
    "collapsed": false
   },
   "outputs": [],
   "source": [
    "weight_res.to_csv('weights.csv')"
   ]
  },
  {
   "cell_type": "code",
   "execution_count": 245,
   "metadata": {
    "collapsed": false
   },
   "outputs": [],
   "source": [
    "ER_sum.to_csv('ER.csv')"
   ]
  },
  {
   "cell_type": "code",
   "execution_count": null,
   "metadata": {
    "collapsed": false
   },
   "outputs": [],
   "source": []
  }
 ],
 "metadata": {
  "kernelspec": {
   "display_name": "Python 3",
   "language": "python",
   "name": "python3"
  },
  "language_info": {
   "codemirror_mode": {
    "name": "ipython",
    "version": 2
   },
   "file_extension": ".py",
   "mimetype": "text/x-python",
   "name": "python",
   "nbconvert_exporter": "python",
   "pygments_lexer": "ipython2",
   "version": "3.10.7 (v3.10.7:6cc6b13308, Sep  5 2022, 14:02:52) [Clang 13.0.0 (clang-1300.0.29.30)]"
  },
  "vscode": {
   "interpreter": {
    "hash": "aee8b7b246df8f9039afb4144a1f6fd8d2ca17a180786b69acc140d282b71a49"
   }
  }
 },
 "nbformat": 4,
 "nbformat_minor": 0
}
